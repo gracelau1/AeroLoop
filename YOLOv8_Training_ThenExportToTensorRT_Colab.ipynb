{
  "cells": [
    {
      "cell_type": "markdown",k
      "metadata": {
        "id": "_Ofy_rSm1S_h"
      },
      "source": [
        "# YOLOv8 Training with Roboflow Export\n",
        "This notebook trains YOLOv8 (Nano model) using a Roboflow dataset export.\n",
        "- Supports image tiling\n",
        "- Best for Jetson Nano / Edge devices with <2s inference goal"
      ]
    },
    {
      "cell_type": "code",
      "metadata": {
        "id": "o_9VLwnu1S_i"
      },
      "source": [
        "!pip install ultralytics roboflow --quiet"
      ],
      "execution_count": null,
      "outputs": []
    },
    {
      "cell_type": "code",
      "metadata": {
        "id": "Bp6AgpNZ1S_j"
      },
      "source": [
        "# Download Dataset from Roboflow\n",
        "from roboflow import Roboflow\n",
        "rf = Roboflow(api_key=\"YOUR_API_KEY\")  # Replace API key\n",
        "project = rf.workspace(\"YOUR_WORKSPACE\").project(\"YOUR_PROJECT\")\n",
        "dataset = project.version(YOUR_VERSION).download(\"yolov8\")"
      ],
      "execution_count": null,
      "outputs": []
    },
    {
      "cell_type": "code",
      "metadata": {
        "id": "GaIBhXdN1S_j"
      },
      "source": [
        "# Train YOLOv8\n",
        "from ultralytics import YOLO\n",
        "model = YOLO('yolov8n.yaml')  # Nano model\n",
        "model.train(data='data.yaml', epochs=50, imgsz=640, batch=16, name='exp', project='roboflow_yolo', autoanchor=True) #set autoanchor to detect food bits better"
      ],
      "execution_count": null,
      "outputs": []
    },
    {
      "cell_type": "code",
      "metadata": {
        "id": "4doL84Kr1S_j"
      },
      "source": [
        "# Export to TensorRT\n",
        "model.export(format='engine')  # to export as TensorRT (on Jetson Nano)"
      ],
      "execution_count": null,
      "outputs": []
    }
  ],
  "metadata": {
    "kernelspec": {
      "display_name": "Python 3",
      "language": "python",
      "name": "python3"
    },
    "language_info": {
      "name": "python",
      "version": "3.x"
    },
    "colab": {
      "provenance": []
    }
  },
  "nbformat": 4,
  "nbformat_minor": 0
}
